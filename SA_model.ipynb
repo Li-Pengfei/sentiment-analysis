{
 "cells": [
  {
   "cell_type": "markdown",
   "metadata": {},
   "source": [
    "## 注意事项\n",
    "* 将文本符号化成句子之后就应该padding一下句子\n",
    "* 先清理符号还是先进行讲文本分成句子\n",
    "* 1.获取文本\n",
    "* 2.将文本分成句子\n",
    "* 3.将句子padding一下\n",
    "* 4.将句子分成词\n",
    "* 5.将词映射到vector里"
   ]
  },
  {
   "cell_type": "code",
   "execution_count": 2,
   "metadata": {
    "collapsed": true
   },
   "outputs": [],
   "source": [
    "import nltk\n",
    "import numpy as np\n",
    "import re\n",
    "import pickle\n",
    "import itertools\n",
    "from collections import Counter\n",
    "from sklearn.feature_extraction.text import CountVectorizer, TfidfVectorizer\n",
    "from keras.preprocessing.sequence import pad_sequences\n",
    "import re\n",
    "from os import listdir\n",
    "import string\n",
    "from nltk.corpus import stopwords"
   ]
  },
  {
   "cell_type": "code",
   "execution_count": 3,
   "metadata": {
    "collapsed": true
   },
   "outputs": [],
   "source": [
    "#loac doc into memory\n",
    "def load_doc(filepath):\n",
    "    \"\"\"\n",
    "    Loads MR polarity data from files, splits the data into words and generates labels.\n",
    "    Returns split sentences and labels.\n",
    "    \"\"\"\n",
    "    #open the file as read only\n",
    "    file = open(filepath,'r')\n",
    "    # read all text\n",
    "    x_text = file.read()\n",
    "    #close the file\n",
    "    file.close()\n",
    "    return x_text\n",
    "\n",
    "def load_data_and_labels(filepath):\n",
    "    \"\"\"\n",
    "    Loads MR polarity data from files, splits the data into words and generates labels.\n",
    "    Returns split sentences and labels.\n",
    "    \"\"\"\n",
    "    # Load data from files\n",
    "    positive_examples = list(open(filepath,'r', encoding='UTF-8').readlines())\n",
    "    positive_examples = [s.strip() for s in positive_examples]\n",
    "    # Split by words\n",
    "    x_text = [s.split(\" \") for s in positive_examples]\n",
    "    # Generate labels\n",
    "    return x_text\n",
    "\n",
    "def clean_doc(doc):\n",
    "    \"\"\"Tokenization/string cleaning for all datasets \"\"\"\n",
    "    #split into tokens by white space\n",
    "    tokens = doc.split()\n",
    "    # remove punctuation from each token\n",
    "    table = str.maketrans('', '', string.punctuation)\n",
    "    tokens = [w.translate(table) for w in tokens]\n",
    "    # remove remaining tokens that are not alphabetic\n",
    "    tokens = [word for word in tokens if word.isalpha()]\n",
    "    # filter out stop words\n",
    "    stop_words = set(stopwords.words('english'))\n",
    "    tokens = [w for w in tokens if not w in stop_words]\n",
    "    # filter out short tokens\n",
    "    tokens = [word for word in tokens if len(word) > 1]\n",
    "    return tokens\n",
    "\n",
    "def clean_str(string):\n",
    "    \"\"\"\n",
    "    Tokenization/string cleaning for all datasets except for SST.\n",
    "    Original taken from https://github.com/yoonkim/CNN_sentence/blob/master/process_data.py\n",
    "    \"\"\"\n",
    "    string = re.sub(r\"[^A-Za-z0-9(),!?\\'\\`]\", \" \", string)\n",
    "    string = re.sub(r\"\\'s\", \" \\'s\", string)\n",
    "    string = re.sub(r\"\\'ve\", \" \\'ve\", string)\n",
    "    string = re.sub(r\"n\\'t\", \" n\\'t\", string)\n",
    "    string = re.sub(r\"\\'re\", \" \\'re\", string)\n",
    "    string = re.sub(r\"\\'d\", \" \\'d\", string)\n",
    "    string = re.sub(r\"\\'ll\", \" \\'ll\", string)\n",
    "    string = re.sub(r\",\", \" , \", string)\n",
    "    string = re.sub(r\"!\", \" ! \", string)\n",
    "    string = re.sub(r\"\\(\", \" \\( \", string)\n",
    "    string = re.sub(r\"\\)\", \" \\) \", string)\n",
    "    string = re.sub(r\"\\?\", \" \\? \", string)\n",
    "    string = re.sub(r\"\\s{2,}\", \" \", string)\n",
    "    return string.strip().lower\n",
    "\n",
    "def sent_tokenize(doc):\n",
    "    sent_text = nltk.sent_tokenize(doc) # this gives you a list of sentences\n",
    "    return sent_text\n",
    "    \n",
    "def word_tokenize(sent):\n",
    "    tokenized_text = nltk.word_tokenize(sent)  # this gives you a list of words\n",
    "    tokenized_text = [token.lower() for token in tokenized_text]  # optional: convert all words to lower case\n",
    "    return tokenized_text  \n",
    "\n",
    "def pad_sentences(sentences, sequence_length=None):\n",
    "    \"\"\"\n",
    "    Pads all sentences to the same length. The length is defined by the longest sentence.\n",
    "    Returns padded sentences.\n",
    "    \"\"\"\n",
    "    padding_word = \"<PAD/>\"\n",
    "\n",
    "    length = [len(x) for x in sentences]\n",
    "    if sequence_length == None:\n",
    "        sequence_length = int(np.percentile(length, 90))\n",
    "\n",
    "    print('max sentence length is %d' % sequence_length)\n",
    "    padded_sentences = []\n",
    "    sentence_length = []\n",
    "    for i in range(len(sentences)):\n",
    "        sentence = sentences[i]\n",
    "        num_padding = sequence_length - len(sentence)\n",
    "        if num_padding > 0:\n",
    "            new_sentence = sentence + [padding_word] * num_padding\n",
    "            padded_sentences.append(new_sentence)\n",
    "            sentence_length.append(len(sentence))\n",
    "        else:\n",
    "            padded_sentences.append(sentence[:sequence_length])\n",
    "    return [sequence_length, padded_sentences, sentence_length]\n"
   ]
  },
  {
   "cell_type": "code",
   "execution_count": 16,
   "metadata": {},
   "outputs": [
    {
     "data": {
      "text/plain": [
       "list"
      ]
     },
     "execution_count": 16,
     "metadata": {},
     "output_type": "execute_result"
    }
   ],
   "source": [
    "x_text1 = load_data_and_labels('D:/code_stock/SA_Code/data/aclImdb/train/neg/0_3.txt')\n",
    "type(x_text1)"
   ]
  },
  {
   "cell_type": "code",
   "execution_count": 15,
   "metadata": {},
   "outputs": [
    {
     "data": {
      "text/plain": [
       "list"
      ]
     },
     "execution_count": 15,
     "metadata": {},
     "output_type": "execute_result"
    }
   ],
   "source": [
    "x_text2 = load_doc('D:/code_stock/SA_Code/data/aclImdb/train/neg/0_3.txt')\n",
    "x_text2 = clean_doc(x_text2)\n",
    "type(x_text2)"
   ]
  },
  {
   "cell_type": "code",
   "execution_count": null,
   "metadata": {
    "collapsed": true
   },
   "outputs": [],
   "source": [
    "#specify the directory to load\n",
    "directory = 'D:/code_stock/SA_Code/data/aclImdb/train/neg'\n",
    "#walk through all files in the folder\n",
    "for filepath in listdir(directory):\n",
    "    #skip files that do not have the right extension\n",
    "    if not filepath.endswith(\".txt\"):\n",
    "        continue\n",
    "    #create the full filepath to open\n",
    "    path = directory + '/' + filepath\n",
    "    #load and label the document\n",
    "    doc = load_doc(path)\n",
    "    print('Loading %s'%filepath)"
   ]
  },
  {
   "cell_type": "code",
   "execution_count": null,
   "metadata": {
    "collapsed": true
   },
   "outputs": [],
   "source": [
    "for filepath in listdir(directory):\n",
    "    #skip files that do not have the right extension\n",
    "    if not filepath.endswith(\".txt\"):\n",
    "        continue\n",
    "    #create the full filepath to open\n",
    "    path = directory + '/' + filepath\n",
    "    #load and label the document\n",
    "    doc = clean_doc(path)\n",
    "    print('Tokenizing %s'%filepath)"
   ]
  },
  {
   "cell_type": "code",
   "execution_count": null,
   "metadata": {
    "collapsed": true
   },
   "outputs": [],
   "source": [
    "x_test1 = load_doc('D:/code_stock/SA_Code/data/aclImdb/train/neg/0_3.txt')\n",
    "type(x_test1)\n"
   ]
  },
  {
   "cell_type": "code",
   "execution_count": null,
   "metadata": {
    "collapsed": true
   },
   "outputs": [],
   "source": [
    "x_test2 = load_data_and_labels('D:/code_stock/SA_Code/data/aclImdb/train/neg/0_3.txt')\n",
    "type(x_test2)\n",
    "x_test2"
   ]
  }
 ],
 "metadata": {
  "kernelspec": {
   "display_name": "Python [conda env:tensorflow]",
   "language": "python",
   "name": "conda-env-tensorflow-py"
  },
  "language_info": {
   "codemirror_mode": {
    "name": "ipython",
    "version": 3
   },
   "file_extension": ".py",
   "mimetype": "text/x-python",
   "name": "python",
   "nbconvert_exporter": "python",
   "pygments_lexer": "ipython3",
   "version": "3.5.6"
  }
 },
 "nbformat": 4,
 "nbformat_minor": 2
}
