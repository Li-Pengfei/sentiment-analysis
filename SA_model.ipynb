{
 "cells": [
  {
   "cell_type": "code",
   "execution_count": null,
   "metadata": {},
   "outputs": [],
   "source": [
    "import pickle\n"
   ]
  },
  {
   "cell_type": "code",
   "execution_count": null,
   "metadata": {},
   "outputs": [],
   "source": [
    "#loading the train_copus_padded data from .pickle file\n",
    "file = open('pickle_data/train_copus_pad.pickle','rb')\n",
    "train_copus_padded = pickle.load(file)\n",
    "\n",
    "file = open('pickle_data/test_copus_pad.pickle','rb')\n",
    "test_copus_padded = pickle.load(file)\n",
    "\n",
    "file = open('pickle_data/vocab_train.pickle','rb')\n",
    "vocab_to_int_train = pickle.load(file)\n",
    "\n",
    "file = open('pickle_data/embedding_matrix','rb')\n",
    "embedding_matrix = pickle.load(file)\n",
    "file.close()\n",
    "\n",
    "#the size of vocabulary\n",
    "copus_size = len(vocab_to_int_train)\n",
    "#the maximal length of every sentence\n",
    "maxlen = len(train_copus_padded[0][0])\n",
    "#dimension of embedding matrix\n",
    "dimension = 300"
   ]
  },
  {
   "cell_type": "code",
   "execution_count": null,
   "metadata": {
    "collapsed": true
   },
   "outputs": [],
   "source": [
    "#*******start to embedding the train_data\n",
    "\n",
    "#one by one sentence of each review as input\n",
    "#each_review is 36*224\n",
    "train_copus_padded = train_copus_padded[:5]\n",
    "embedding_layer = Embedding(copus_size,dimension,weights = [embedding_matrix],input_length = maxlen,trainable = False)\n",
    "for review in train_copus_padded:\n",
    "    for sent in review:\n",
    "        sent = tf.convert_to_tensor(sent)\n",
    "        sent = tf.reshape(sent,[1,224])\n",
    "        embeded_sequence = embedding_layer(sent)\n",
    "        #合并每个vector\n",
    "        embeded_sequences = tf.concat(embeded_sequence,0)"
   ]
  },
  {
   "cell_type": "code",
   "execution_count": null,
   "metadata": {},
   "outputs": [],
   "source": [
    "print(embeded_sequences)"
   ]
  },
  {
   "cell_type": "code",
   "execution_count": null,
   "metadata": {},
   "outputs": [],
   "source": []
  },
  {
   "cell_type": "code",
   "execution_count": null,
   "metadata": {},
   "outputs": [],
   "source": []
  }
 ],
 "metadata": {
  "kernelspec": {
   "display_name": "Python 3",
   "language": "python",
   "name": "python3"
  },
  "language_info": {
   "codemirror_mode": {
    "name": "ipython",
    "version": 3
   },
   "file_extension": ".py",
   "mimetype": "text/x-python",
   "name": "python",
   "nbconvert_exporter": "python",
   "pygments_lexer": "ipython3",
   "version": "3.6.5"
  }
 },
 "nbformat": 4,
 "nbformat_minor": 2
}
